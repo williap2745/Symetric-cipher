{
  "nbformat": 4,
  "nbformat_minor": 0,
  "metadata": {
    "colab": {
      "provenance": [],
      "include_colab_link": true
    },
    "kernelspec": {
      "name": "python3",
      "display_name": "Python 3"
    },
    "language_info": {
      "name": "python"
    }
  },
  "cells": [
    {
      "cell_type": "markdown",
      "metadata": {
        "id": "view-in-github",
        "colab_type": "text"
      },
      "source": [
        "<a href=\"https://colab.research.google.com/github/williap2745/Symetric-cipher/blob/main/Camellia-Cipher.ipynb\" target=\"_parent\"><img src=\"https://colab.research.google.com/assets/colab-badge.svg\" alt=\"Open In Colab\"/></a>"
      ]
    },
    {
      "cell_type": "code",
      "execution_count": null,
      "metadata": {
        "colab": {
          "base_uri": "https://localhost:8080/"
        },
        "id": "uR0KAE8DCH-p",
        "outputId": "cb192d0c-e8e6-43b8-f793-b5054ced486b"
      },
      "outputs": [
        {
          "output_type": "stream",
          "name": "stdout",
          "text": [
            "Requirement already satisfied: cryptography in /usr/local/lib/python3.11/dist-packages (43.0.3)\n",
            "Requirement already satisfied: cffi>=1.12 in /usr/local/lib/python3.11/dist-packages (from cryptography) (1.17.1)\n",
            "Requirement already satisfied: pycparser in /usr/local/lib/python3.11/dist-packages (from cffi>=1.12->cryptography) (2.22)\n"
          ]
        }
      ],
      "source": [
        "!pip install cryptography\n"
      ]
    },
    {
      "cell_type": "code",
      "source": [
        "!pip install pycryptodome"
      ],
      "metadata": {
        "colab": {
          "base_uri": "https://localhost:8080/"
        },
        "id": "VG4WKxYrE0AI",
        "outputId": "eb09b970-7256-42fa-da44-c5121b9a73ee"
      },
      "execution_count": null,
      "outputs": [
        {
          "output_type": "stream",
          "name": "stdout",
          "text": [
            "Collecting pycryptodome\n",
            "  Downloading pycryptodome-3.21.0-cp36-abi3-manylinux_2_17_x86_64.manylinux2014_x86_64.whl.metadata (3.4 kB)\n",
            "Downloading pycryptodome-3.21.0-cp36-abi3-manylinux_2_17_x86_64.manylinux2014_x86_64.whl (2.3 MB)\n",
            "\u001b[2K   \u001b[90m━━━━━━━━━━━━━━━━━━━━━━━━━━━━━━━━━━━━━━━━\u001b[0m \u001b[32m2.3/2.3 MB\u001b[0m \u001b[31m9.4 MB/s\u001b[0m eta \u001b[36m0:00:00\u001b[0m\n",
            "\u001b[?25hInstalling collected packages: pycryptodome\n",
            "Successfully installed pycryptodome-3.21.0\n"
          ]
        }
      ]
    },
    {
      "cell_type": "code",
      "source": [
        "from cryptography.hazmat.primitives.ciphers import Cipher, algorithms, modes\n",
        "from cryptography.hazmat.backends import default_backend\n",
        "from cryptography.hazmat.primitives import padding\n",
        "import os"
      ],
      "metadata": {
        "id": "mZIi5-2eDL0Z"
      },
      "execution_count": null,
      "outputs": []
    },
    {
      "cell_type": "code",
      "source": [
        "key = os.urandom(32) # 256-bit key\n",
        "iv = os.urandom(16)  # 128-bit IV\n",
        "print(key)\n",
        "print(iv)"
      ],
      "metadata": {
        "colab": {
          "base_uri": "https://localhost:8080/"
        },
        "id": "uyQm-vixCOIK",
        "outputId": "8bdff704-3110-4886-d2f4-1fe82c70dc3d"
      },
      "execution_count": null,
      "outputs": [
        {
          "output_type": "stream",
          "name": "stdout",
          "text": [
            "b'\\x04\\xbc\\xb6\\x83]\\xd1\\xc3\\xf2\\xfdWN\\xfdm\\x91}\\xfcy|\\n\\x15`Z\\x81\\x83\\xe8a\\xc4\\xe6\\x10\\xb6\\xc6*'\n",
            "b'\\xc2\\xc229\\xb4\\t\\x1f\\xa4\\x92b/x\\x16\\xbc\\xc3r'\n"
          ]
        }
      ]
    },
    {
      "cell_type": "code",
      "source": [
        "plaintext = b'Garrett Javorie'"
      ],
      "metadata": {
        "id": "SDvhcda8RsfW"
      },
      "execution_count": null,
      "outputs": []
    },
    {
      "cell_type": "code",
      "source": [
        "def encryption(plaintext):\n",
        "    cipher = Cipher(algorithms.Camellia(key), modes.CBC(iv), backend = default_backend())\n",
        "    encryptor = cipher.encryptor()\n",
        "    padder = padding.PKCS7(algorithms.Camellia.block_size).padder()\n",
        "\n",
        "    padded_plaintext = padder.update(plaintext) + padder.finalize()\n",
        "    ciphertext = encryptor.update(padded_plaintext) + encryptor.finalize()\n",
        "\n",
        "    print(\"Plaintext:\", plaintext)\n",
        "    print(\"Ciphertext:\", ciphertext)\n",
        "    return ciphertext"
      ],
      "metadata": {
        "id": "5dE3QYisRdJ4"
      },
      "execution_count": null,
      "outputs": []
    },
    {
      "cell_type": "code",
      "source": [
        "def decryption(ciphertext):\n",
        "    cipher = Cipher(algorithms.Camellia(key), modes.CBC(iv), backend=default_backend())\n",
        "    decryptor = cipher.decryptor()\n",
        "    unpadder = padding.PKCS7(algorithms.Camellia.block_size).unpadder()\n",
        "\n",
        "    decrypted_padded_text = decryptor.update(ciphertext) + decryptor.finalize()\n",
        "    decrypted_text = unpadder.update(decrypted_padded_text) + unpadder.finalize()\n",
        "\n",
        "    print(\"Decrypted text:\", decrypted_text)"
      ],
      "metadata": {
        "id": "09gdcdK2RdSL"
      },
      "execution_count": null,
      "outputs": []
    },
    {
      "cell_type": "code",
      "source": [
        "ciphertext = encryption(plaintext)\n",
        "decryption(ciphertext)"
      ],
      "metadata": {
        "colab": {
          "base_uri": "https://localhost:8080/"
        },
        "id": "NNvkc7uxRdnN",
        "outputId": "bdc2501a-abe8-4495-e2e2-74102ac17044"
      },
      "execution_count": null,
      "outputs": [
        {
          "output_type": "stream",
          "name": "stdout",
          "text": [
            "Plaintext: b'Garrett Javorie'\n",
            "Ciphertext: b'\\x11\\x92\\xf8h\\xfdS\\xdc-\\xcdj\\xfa\\xd8Ey\\xe0w'\n",
            "Decrypted text: b'Garrett Javorie'\n"
          ]
        }
      ]
    }
  ]
}